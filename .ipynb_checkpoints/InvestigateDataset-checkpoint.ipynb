{
 "cells": [
  {
   "cell_type": "markdown",
   "metadata": {},
   "source": [
    "# Investigate a Dataset\n",
    "#### What to include in your submission\n",
    "\n",
    "1. PDF or HTML file containing your analysis. This file should include:\n",
    "    * note specifying which dataset you analyzed\n",
    "    * statement of the question(s) you posed\n",
    "    * description of what you did to investigate those questions\n",
    "    * Documentation of any data wrangling you did\n",
    "    * Summary statistics and plots communicating your final results\n",
    "2. Code you used to perform your analysis. If you used an iPython notebook, you can submit your .ipynb. Otherwise, you should submit the code separately in .py file(s).\n",
    "3. list of Web sites, books, forums, blog posts, github repositories, etc. that you referred to or used in creating your submission (add N/A if you did not use any such resources)."
   ]
  },
  {
   "cell_type": "markdown",
   "metadata": {},
   "source": [
    "### Introduction\n",
    "The project below is to investigate a few features and try to answer the questions:\n",
    "* What is the important variable are the survival factors from Titanic?\n",
    "\n",
    "It plot and exam both single variable on survival probability and compare variables' relative impact.  \n",
    "\n",
    "#### Report structure:\n",
    "1. Dataset description\n",
    "2. Data cleaning and processing\n",
    "3. Variable investigation:\n",
    "    * Sex (plot and t-test)\n",
    "        * Is Sex a significant factor affecting survivalship?\n",
    "    * Pclass (plot and t-test)\n",
    "        * Is boarding class a significant factor affecting survivalship?\n",
    "    * compare Sex and PClass (plot)\n",
    "        * If yes for both above, which factor is a stronger factor?\n",
    "    * Age (plot and t-test)\n",
    "        * Is Age a significant factor affecting surivalship?\n",
    "    * FamilySize (plot)\n",
    "        * How FamilySize affecting survivalship?\n",
    "4. Conclusion"
   ]
  },
  {
   "cell_type": "markdown",
   "metadata": {},
   "source": [
    "### Dataset Description\n",
    "Titanic.csv  https://www.kaggle.com/c/titanic/download/train.csv\n",
    "\n",
    "Contains demographics and passenger information from 891 of the 2224\n",
    "passengers and crew on board the Titanic. You can view a description of this dataset on the Kaggle website, where the data was obtained.\n"
   ]
  },
  {
   "cell_type": "code",
   "execution_count": 1,
   "metadata": {
    "collapsed": false
   },
   "outputs": [],
   "source": [
    "import pandas as pd\n",
    "import numpy as np\n",
    "import matplotlib.pyplot as plt\n",
    "from scipy import stats\n",
    "import seaborn as sns\n",
    "sns.set(color_codes=True)\n",
    "%matplotlib inline\n",
    "plt.style.use('ggplot')\n",
    "titanic = pd.read_csv(\"Titanic.csv\",index_col=0)"
   ]
  },
  {
   "cell_type": "code",
   "execution_count": 2,
   "metadata": {
    "collapsed": false,
    "scrolled": true
   },
   "outputs": [
    {
     "data": {
      "text/html": [
       "<div>\n",
       "<table border=\"1\" class=\"dataframe\">\n",
       "  <thead>\n",
       "    <tr style=\"text-align: right;\">\n",
       "      <th></th>\n",
       "      <th>Survived</th>\n",
       "      <th>Pclass</th>\n",
       "      <th>Name</th>\n",
       "      <th>Sex</th>\n",
       "      <th>Age</th>\n",
       "      <th>SibSp</th>\n",
       "      <th>Parch</th>\n",
       "      <th>Ticket</th>\n",
       "      <th>Fare</th>\n",
       "      <th>Cabin</th>\n",
       "      <th>Embarked</th>\n",
       "    </tr>\n",
       "    <tr>\n",
       "      <th>PassengerId</th>\n",
       "      <th></th>\n",
       "      <th></th>\n",
       "      <th></th>\n",
       "      <th></th>\n",
       "      <th></th>\n",
       "      <th></th>\n",
       "      <th></th>\n",
       "      <th></th>\n",
       "      <th></th>\n",
       "      <th></th>\n",
       "      <th></th>\n",
       "    </tr>\n",
       "  </thead>\n",
       "  <tbody>\n",
       "    <tr>\n",
       "      <th>1</th>\n",
       "      <td>0</td>\n",
       "      <td>3</td>\n",
       "      <td>Braund, Mr. Owen Harris</td>\n",
       "      <td>male</td>\n",
       "      <td>22.0</td>\n",
       "      <td>1</td>\n",
       "      <td>0</td>\n",
       "      <td>A/5 21171</td>\n",
       "      <td>7.2500</td>\n",
       "      <td>NaN</td>\n",
       "      <td>S</td>\n",
       "    </tr>\n",
       "    <tr>\n",
       "      <th>2</th>\n",
       "      <td>1</td>\n",
       "      <td>1</td>\n",
       "      <td>Cumings, Mrs. John Bradley (Florence Briggs Th...</td>\n",
       "      <td>female</td>\n",
       "      <td>38.0</td>\n",
       "      <td>1</td>\n",
       "      <td>0</td>\n",
       "      <td>PC 17599</td>\n",
       "      <td>71.2833</td>\n",
       "      <td>C85</td>\n",
       "      <td>C</td>\n",
       "    </tr>\n",
       "    <tr>\n",
       "      <th>3</th>\n",
       "      <td>1</td>\n",
       "      <td>3</td>\n",
       "      <td>Heikkinen, Miss. Laina</td>\n",
       "      <td>female</td>\n",
       "      <td>26.0</td>\n",
       "      <td>0</td>\n",
       "      <td>0</td>\n",
       "      <td>STON/O2. 3101282</td>\n",
       "      <td>7.9250</td>\n",
       "      <td>NaN</td>\n",
       "      <td>S</td>\n",
       "    </tr>\n",
       "    <tr>\n",
       "      <th>4</th>\n",
       "      <td>1</td>\n",
       "      <td>1</td>\n",
       "      <td>Futrelle, Mrs. Jacques Heath (Lily May Peel)</td>\n",
       "      <td>female</td>\n",
       "      <td>35.0</td>\n",
       "      <td>1</td>\n",
       "      <td>0</td>\n",
       "      <td>113803</td>\n",
       "      <td>53.1000</td>\n",
       "      <td>C123</td>\n",
       "      <td>S</td>\n",
       "    </tr>\n",
       "    <tr>\n",
       "      <th>5</th>\n",
       "      <td>0</td>\n",
       "      <td>3</td>\n",
       "      <td>Allen, Mr. William Henry</td>\n",
       "      <td>male</td>\n",
       "      <td>35.0</td>\n",
       "      <td>0</td>\n",
       "      <td>0</td>\n",
       "      <td>373450</td>\n",
       "      <td>8.0500</td>\n",
       "      <td>NaN</td>\n",
       "      <td>S</td>\n",
       "    </tr>\n",
       "  </tbody>\n",
       "</table>\n",
       "</div>"
      ],
      "text/plain": [
       "             Survived  Pclass  \\\n",
       "PassengerId                     \n",
       "1                   0       3   \n",
       "2                   1       1   \n",
       "3                   1       3   \n",
       "4                   1       1   \n",
       "5                   0       3   \n",
       "\n",
       "                                                          Name     Sex   Age  \\\n",
       "PassengerId                                                                    \n",
       "1                                      Braund, Mr. Owen Harris    male  22.0   \n",
       "2            Cumings, Mrs. John Bradley (Florence Briggs Th...  female  38.0   \n",
       "3                                       Heikkinen, Miss. Laina  female  26.0   \n",
       "4                 Futrelle, Mrs. Jacques Heath (Lily May Peel)  female  35.0   \n",
       "5                                     Allen, Mr. William Henry    male  35.0   \n",
       "\n",
       "             SibSp  Parch            Ticket     Fare Cabin Embarked  \n",
       "PassengerId                                                          \n",
       "1                1      0         A/5 21171   7.2500   NaN        S  \n",
       "2                1      0          PC 17599  71.2833   C85        C  \n",
       "3                0      0  STON/O2. 3101282   7.9250   NaN        S  \n",
       "4                1      0            113803  53.1000  C123        S  \n",
       "5                0      0            373450   8.0500   NaN        S  "
      ]
     },
     "execution_count": 2,
     "metadata": {},
     "output_type": "execute_result"
    }
   ],
   "source": [
    "#Peep the dataset\n",
    "titanic.head()"
   ]
  },
  {
   "cell_type": "markdown",
   "metadata": {},
   "source": [
    "### Data Cleaning and processing\n",
    "\n",
    "Let's construct a new data set with some data cleaning:\n",
    "\n",
    "Dependent varible:\n",
    "* \"SurvivalTag\", read from Suvivied column\n",
    "\n",
    "Independent variables:\n",
    "\n",
    "* Pclass - represent pasenger class\n",
    "* Sex - male=1 and female=0\n",
    "* Age - as it is\n",
    "* FamilySize = SibSp+Parch - the sum family number onboard\n",
    "\n",
    "Other variables are not used."
   ]
  },
  {
   "cell_type": "code",
   "execution_count": 11,
   "metadata": {
    "collapsed": false
   },
   "outputs": [
    {
     "data": {
      "text/html": [
       "<div>\n",
       "<table border=\"1\" class=\"dataframe\">\n",
       "  <thead>\n",
       "    <tr style=\"text-align: right;\">\n",
       "      <th></th>\n",
       "      <th>SurvivalTag</th>\n",
       "      <th>Pclass</th>\n",
       "      <th>Sex</th>\n",
       "      <th>Age</th>\n",
       "      <th>FamilySize</th>\n",
       "    </tr>\n",
       "  </thead>\n",
       "  <tbody>\n",
       "    <tr>\n",
       "      <th>count</th>\n",
       "      <td>891.000000</td>\n",
       "      <td>891.000000</td>\n",
       "      <td>891.000000</td>\n",
       "      <td>714.000000</td>\n",
       "      <td>891.000000</td>\n",
       "    </tr>\n",
       "    <tr>\n",
       "      <th>mean</th>\n",
       "      <td>0.383838</td>\n",
       "      <td>2.308642</td>\n",
       "      <td>0.647587</td>\n",
       "      <td>29.699118</td>\n",
       "      <td>1.904602</td>\n",
       "    </tr>\n",
       "    <tr>\n",
       "      <th>std</th>\n",
       "      <td>0.486592</td>\n",
       "      <td>0.836071</td>\n",
       "      <td>0.477990</td>\n",
       "      <td>14.526497</td>\n",
       "      <td>1.613459</td>\n",
       "    </tr>\n",
       "    <tr>\n",
       "      <th>min</th>\n",
       "      <td>0.000000</td>\n",
       "      <td>1.000000</td>\n",
       "      <td>0.000000</td>\n",
       "      <td>0.420000</td>\n",
       "      <td>1.000000</td>\n",
       "    </tr>\n",
       "    <tr>\n",
       "      <th>25%</th>\n",
       "      <td>0.000000</td>\n",
       "      <td>2.000000</td>\n",
       "      <td>0.000000</td>\n",
       "      <td>NaN</td>\n",
       "      <td>1.000000</td>\n",
       "    </tr>\n",
       "    <tr>\n",
       "      <th>50%</th>\n",
       "      <td>0.000000</td>\n",
       "      <td>3.000000</td>\n",
       "      <td>1.000000</td>\n",
       "      <td>NaN</td>\n",
       "      <td>1.000000</td>\n",
       "    </tr>\n",
       "    <tr>\n",
       "      <th>75%</th>\n",
       "      <td>1.000000</td>\n",
       "      <td>3.000000</td>\n",
       "      <td>1.000000</td>\n",
       "      <td>NaN</td>\n",
       "      <td>2.000000</td>\n",
       "    </tr>\n",
       "    <tr>\n",
       "      <th>max</th>\n",
       "      <td>1.000000</td>\n",
       "      <td>3.000000</td>\n",
       "      <td>1.000000</td>\n",
       "      <td>80.000000</td>\n",
       "      <td>11.000000</td>\n",
       "    </tr>\n",
       "  </tbody>\n",
       "</table>\n",
       "</div>"
      ],
      "text/plain": [
       "       SurvivalTag      Pclass         Sex         Age  FamilySize\n",
       "count   891.000000  891.000000  891.000000  714.000000  891.000000\n",
       "mean      0.383838    2.308642    0.647587   29.699118    1.904602\n",
       "std       0.486592    0.836071    0.477990   14.526497    1.613459\n",
       "min       0.000000    1.000000    0.000000    0.420000    1.000000\n",
       "25%       0.000000    2.000000    0.000000         NaN    1.000000\n",
       "50%       0.000000    3.000000    1.000000         NaN    1.000000\n",
       "75%       1.000000    3.000000    1.000000         NaN    2.000000\n",
       "max       1.000000    3.000000    1.000000   80.000000   11.000000"
      ]
     },
     "execution_count": 11,
     "metadata": {},
     "output_type": "execute_result"
    }
   ],
   "source": [
    "df = pd.DataFrame()\n",
    "df['SurvivalTag'] = titanic.Survived\n",
    "df['Pclass'] = map(int,titanic.Pclass)\n",
    "df['Sex'] = map(int,titanic.Sex==\"male\") \n",
    "df['Age'] = titanic.Age.dropna()\n",
    "df['FamilySize'] = map(int,titanic.SibSp + titanic.Parch +1)\n",
    "#summary of new dataset\n",
    "df.describe()"
   ]
  },
  {
   "cell_type": "code",
   "execution_count": 4,
   "metadata": {
    "collapsed": true
   },
   "outputs": [],
   "source": [
    "#Device into two sub-groups for feature selection.\n",
    "survival_df = df[df.SurvivalTag==1]\n",
    "victim_df = df[df.SurvivalTag==0]"
   ]
  },
  {
   "cell_type": "markdown",
   "metadata": {},
   "source": [
    "### Features\n",
    "\n",
    "First, plot invetigate single feature\n",
    "\n",
    "Then, I will run two-sample t-test on some features (Pclass, Sex, Age) to identify significante feature. Null hypothesis is that the feature's average value is not different between two population group. If the null hypothesis is rejected at Confident Interval=99%, then the feature will be selected for future research."
   ]
  },
  {
   "cell_type": "markdown",
   "metadata": {},
   "source": [
    "#### Pclass\n",
    "Histogram findings:\n",
    "* Victims are biased to lower class passengers\n",
    "* Survivals are biased to higher class passengers\n",
    "\n",
    "t-statics gives 2.9e-23, which rejects the null hypothesis, so Pclass will selected feature"
   ]
  },
  {
   "cell_type": "code",
   "execution_count": 5,
   "metadata": {
    "collapsed": false
   },
   "outputs": [
    {
     "name": "stdout",
     "output_type": "stream",
     "text": [
      "t-test on Pclass:\n",
      "Ttest_indResult(statistic=-10.336953406118893, pvalue=2.9111554993758305e-23)\n"
     ]
    },
    {
     "data": {
      "image/png": "[encoded data removed]",
      "text/plain": [
       "<matplotlib.figure.Figure at 0x9da0128>"
      ]
     },
     "metadata": {},
     "output_type": "display_data"
    }
   ],
   "source": [
    "#### Pclass\n",
    "sns.distplot(victim_df.Pclass,bins=3,label='Victim')\n",
    "sns.distplot(survival_df.Pclass,bins=3,label='Survival')\n",
    "plt.legend()\n",
    "print(\"t-test on Pclass:\")\n",
    "print(stats.ttest_ind(survival_df.Pclass,victim_df.Pclass,equal_var=False))"
   ]
  },
  {
   "cell_type": "markdown",
   "metadata": {},
   "source": [
    "#### Sex\n",
    "Barchart findings:\n",
    "* Victime groups have larger percentage of male passengers compared with survival passengers.\n",
    "\n",
    "t-test shows it strongly reject the null hypothesis (Pvalue=1.2e-58, and Sex will be a selected feature."
   ]
  },
  {
   "cell_type": "code",
   "execution_count": 6,
   "metadata": {
    "collapsed": false,
    "scrolled": true
   },
   "outputs": [
    {
     "name": "stdout",
     "output_type": "stream",
     "text": [
      "t-test on Sex:\n",
      "Ttest_indResult(statistic=-18.134562886672249, pvalue=1.2437937770621508e-58)\n"
     ]
    },
    {
     "data": {
      "image/png": "[encoded data removed]",
      "text/plain": [
       "<matplotlib.figure.Figure at 0x38376a0>"
      ]
     },
     "metadata": {},
     "output_type": "display_data"
    }
   ],
   "source": [
    "#### Sex\n",
    "sns.barplot('SurvivalTag','Sex',data=df)\n",
    "print(\"t-test on Sex:\")\n",
    "print(stats.ttest_ind(survival_df.Sex,victim_df.Sex,equal_var=False))"
   ]
  },
  {
   "cell_type": "markdown",
   "metadata": {},
   "source": [
    "#### Compare Sex  and Pclass\n",
    "Plot bar chart to show the impact of Sex and Pclass on Survival.  This chart will include information above on single variable analysis for Sex and Pclass, it also compare the relative impact between these two. \n",
    "* Higher Pclass will have higher survival probability.\n",
    "* Female passengers will have higher surival probability.\n",
    "* Sex is much more strong factor than Pclass, that we see that all femal has greater survival probabilty than male."
   ]
  },
  {
   "cell_type": "code",
   "execution_count": 10,
   "metadata": {
    "collapsed": false
   },
   "outputs": [
    {
     "data": {
      "text/plain": [
       "<matplotlib.axes._subplots.AxesSubplot at 0xb9aad68>"
      ]
     },
     "execution_count": 10,
     "metadata": {},
     "output_type": "execute_result"
    },
    {
     "data": {
      "image/png": "[encoded data removed]",
      "text/plain": [
       "<matplotlib.figure.Figure at 0xc02aef0>"
      ]
     },
     "metadata": {},
     "output_type": "display_data"
    }
   ],
   "source": [
    "# Compare Sex  and Pclass\n",
    "sns.barplot(x='Sex',y='SurvivalTag',hue='Pclass',data=df)"
   ]
  },
  {
   "cell_type": "markdown",
   "metadata": {},
   "source": [
    "#### Age\n",
    "Age fields are missing from some passengers so i will drop those without Age information when plotting and conduct the t-statistic.\n",
    "\n",
    "Histogram findings:\n",
    "* Overall there is the age distribution are similar between Victim and Survival group\n",
    "* There is peak in very young age at survival group.\n",
    "\n",
    "t-test gives Pvalue=0.39 so it does not reject the null hypothesis at 99% CI, so Age will not a be selected as a feature."
   ]
  },
  {
   "cell_type": "code",
   "execution_count": 8,
   "metadata": {
    "collapsed": false,
    "scrolled": false
   },
   "outputs": [
    {
     "name": "stdout",
     "output_type": "stream",
     "text": [
      "t-test on Age:\n",
      "Ttest_indResult(statistic=-2.0666869462538102, pvalue=0.039124654013482488)\n"
     ]
    },
    {
     "data": {
      "image/png": "[encoded data removed]",
      "text/plain": [
       "<matplotlib.figure.Figure at 0xb8cc828>"
      ]
     },
     "metadata": {},
     "output_type": "display_data"
    }
   ],
   "source": [
    "#### Age\n",
    "sns.distplot(victim_df.Age.dropna(),label='Victim')\n",
    "sns.distplot(survival_df.Age.dropna(),label='Survival')\n",
    "plt.legend()\n",
    "print(\"t-test on Age:\")\n",
    "print(stats.ttest_ind(survival_df.Age.dropna(),victim_df.Age.dropna(),equal_var=True))"
   ]
  },
  {
   "cell_type": "markdown",
   "metadata": {},
   "source": [
    "#### FamilySize\n",
    "Plot findings:\n",
    "* Victims are biased to singles (FamilySize=1)\n",
    "* Victims are also biased to very large mily (FmialySize>5)\n",
    "* Survivals are biased to medium family (Family size between 2 and 4)\n",
    "\n",
    "Limitation: t-test cannot be used since we are not intersted in the population mean.  Non-linear staistics should be used for FamilySize variable."
   ]
  },
  {
   "cell_type": "code",
   "execution_count": 9,
   "metadata": {
    "collapsed": false
   },
   "outputs": [
    {
     "data": {
      "text/plain": [
       "<matplotlib.axes._subplots.AxesSubplot at 0x9b6df98>"
      ]
     },
     "execution_count": 9,
     "metadata": {},
     "output_type": "execute_result"
    },
    {
     "data": {
      "image/png": "[encoded data removed]",
      "text/plain": [
       "<matplotlib.figure.Figure at 0x9b6df60>"
      ]
     },
     "metadata": {},
     "output_type": "display_data"
    }
   ],
   "source": [
    "sns.countplot(x='FamilySize',hue='SurvivalTag',data=df)"
   ]
  },
  {
   "cell_type": "markdown",
   "metadata": {},
   "source": [
    "### Conclusion:\n",
    "To conclude the answers:\n",
    "* Is Sex a significant factor affecting survivalship?\n",
    "    * Yes, it is shown in both plot and t-test\n",
    "* Is boarding class a significant factor affecting survivalship?\n",
    "    * Yes, it is shown in both plot and t-test\n",
    "* If yes for both above, which factor is a stronger factor?\n",
    "    * As shown in plot, Sex is stronger factor than Pclass.\n",
    "* Is Age a significant factor affecting surivalship?\n",
    "    * Generally not, but for Infants they has much higher survival probability.\n",
    "* How FamilySize affecting survivalship?\n",
    "    * Both singles and large family has lower survival probability but medium family is favored. "
   ]
  },
  {
   "cell_type": "markdown",
   "metadata": {},
   "source": [
    "#### Reference\n",
    "* https://www.kaggle.com/c/titanic/data\n"
   ]
  }
 ],
 "metadata": {
  "anaconda-cloud": {},
  "kernelspec": {
   "display_name": "Python [Root]",
   "language": "python",
   "name": "Python [Root]"
  },
  "language_info": {
   "codemirror_mode": {
    "name": "ipython",
    "version": 2
   },
   "file_extension": ".py",
   "mimetype": "text/x-python",
   "name": "python",
   "nbconvert_exporter": "python",
   "pygments_lexer": "ipython2",
   "version": "2.7.12"
  }
 },
 "nbformat": 4,
 "nbformat_minor": 0
}
